{
 "cells": [
  {
   "cell_type": "markdown",
   "id": "17b304e5-1d30-4900-9f27-e4dea958e651",
   "metadata": {},
   "source": [
    "# Demo notebook for `pynaviz`"
   ]
  },
  {
   "cell_type": "code",
   "execution_count": 1,
   "id": "56f2b9cf-7661-43d4-aff6-65f7ef6fbbd1",
   "metadata": {},
   "outputs": [
    {
     "data": {
      "application/vnd.jupyter.widget-view+json": {
       "model_id": "5e6e573fb91449b6aa99232c00f71310",
       "version_major": 2,
       "version_minor": 0
      },
      "text/plain": [
       "Image(value=b'\\x89PNG\\r\\n\\x1a\\n\\x00\\x00\\x00\\rIHDR\\x00\\x00\\x01,\\x00\\x00\\x007\\x08\\x06\\x00\\x00\\x00\\xb6\\x1bw\\x99\\x…"
      ]
     },
     "metadata": {},
     "output_type": "display_data"
    },
    {
     "name": "stderr",
     "output_type": "stream",
     "text": [
      "MESA-INTEL: warning: cannot initialize blitter engine\n",
      "Detected skylake derivative running on mesa i915. Clears to srgb textures will use manual shader clears.\n",
      "Detected skylake derivative running on mesa i915. Clears to srgb textures will use manual shader clears.\n",
      "Detected skylake derivative running on mesa i915. Clears to srgb textures will use manual shader clears.\n",
      "Detected skylake derivative running on mesa i915. Clears to srgb textures will use manual shader clears.\n",
      "Detected skylake derivative running on mesa i915. Clears to srgb textures will use manual shader clears.\n"
     ]
    },
    {
     "name": "stdout",
     "output_type": "stream",
     "text": [
      "Available devices:\n",
      "🯄 (default) | Intel(R) Arc(tm) Graphics (MTL) | IntegratedGPU | Vulkan | Mesa 24.0.8-1\n",
      "❗ | llvmpipe (LLVM 17.0.6, 256 bits) | CPU | Vulkan | Mesa 24.0.8-1 (LLVM 17.0.6)\n",
      "❗ | Mesa Intel(R) Arc(tm) Graphics (MTL) | IntegratedGPU | OpenGL | \n"
     ]
    }
   ],
   "source": [
    "import numpy as np\n",
    "import pynapple as nap\n",
    "import pynaviz as viz"
   ]
  },
  {
   "cell_type": "markdown",
   "id": "f82276ba-2b3c-4775-a1b3-859d46e3fcd3",
   "metadata": {},
   "source": [
    "## Generate some data and associated `pynapple` objects\n",
    "\n",
    "Creating a single line object that is a sine wave and a multi-line object of cosine waves"
   ]
  },
  {
   "cell_type": "code",
   "execution_count": 2,
   "id": "ba3ebff4-ef7e-4b04-addc-668fe0393a19",
   "metadata": {},
   "outputs": [],
   "source": [
    "xs = np.linspace(0, 100, 1_000)\n",
    "\n",
    "# sine data\n",
    "ys = np.sin(xs)\n",
    "\n",
    "# associated pynapple array\n",
    "sine = nap.Tsd(t=xs, d=ys)\n",
    "\n",
    "# cosine data\n",
    "ys = np.cos(xs)\n",
    "# create multiple lines\n",
    "cosine = np.array([ys] * 10).T\n",
    "\n",
    "# pynapple object\n",
    "cosine = nap.TsdFrame(t=xs, d=cosine)"
   ]
  },
  {
   "cell_type": "markdown",
   "id": "a4c3a4ac-a47a-4cc4-a71f-7dd7f0253766",
   "metadata": {},
   "source": [
    "## Create a `NeuroWidget`"
   ]
  },
  {
   "cell_type": "markdown",
   "id": "7d7dea65-a79a-489c-a58a-e74c18c99afb",
   "metadata": {},
   "source": [
    "**Goal:** User passes in `pynapple` objects with some mapping (sorry Guillaume)\n",
    "\n",
    "```python\n",
    "\n",
    "nw = viz.NeuroWidget(data={\n",
    "                        \"line\": [sine, cosine],\n",
    "                        \"movie\": [movie],\n",
    "                        \"heatmap\": [heatmap],\n",
    "                        }\n",
    "                    )\n",
    "```"
   ]
  },
  {
   "cell_type": "code",
   "execution_count": 3,
   "id": "353c5b8e-29bc-43b2-9f9c-1a5f5c11bb1b",
   "metadata": {},
   "outputs": [
    {
     "name": "stderr",
     "output_type": "stream",
     "text": [
      "/home/caitlin/repos/fastplotlib/fastplotlib/graphics/_features/_base.py:21: UserWarning: casting float64 array to float32\n",
      "  warn(f\"casting {array.dtype} array to float32\")\n"
     ]
    },
    {
     "data": {
      "application/vnd.jupyter.widget-view+json": {
       "model_id": "fe0c872f9c2d43da89c19b693bedced2",
       "version_major": 2,
       "version_minor": 0
      },
      "text/plain": [
       "RFBOutputContext()"
      ]
     },
     "metadata": {},
     "output_type": "display_data"
    },
    {
     "name": "stderr",
     "output_type": "stream",
     "text": [
      "Detected skylake derivative running on mesa i915. Clears to srgb textures will use manual shader clears.\n"
     ]
    }
   ],
   "source": [
    "nw = viz.NeuroWidget(data={\"line\": [sine, cosine]})"
   ]
  },
  {
   "cell_type": "code",
   "execution_count": 4,
   "id": "f987ee3a-c2a8-4d53-a17e-10bd8c195de2",
   "metadata": {},
   "outputs": [
    {
     "name": "stderr",
     "output_type": "stream",
     "text": [
      "/home/caitlin/venvs/pynaviz/lib/python3.11/site-packages/traitlets/traitlets.py:1385: DeprecationWarning: Passing unrecognized arguments to super(Button).__init__(value=False).\n",
      "object.__init__() takes exactly one argument (the instance to initialize)\n",
      "This is deprecated in traitlets 4.2.This error will be raised in a future release of traitlets.\n",
      "  warn(\n",
      "/home/caitlin/venvs/pynaviz/lib/python3.11/site-packages/traitlets/traitlets.py:1385: DeprecationWarning: Passing unrecognized arguments to super(Button).__init__(value=False).\n",
      "object.__init__() takes exactly one argument (the instance to initialize)\n",
      "This is deprecated in traitlets 4.2.This error will be raised in a future release of traitlets.\n",
      "  warn(\n",
      "/home/caitlin/venvs/pynaviz/lib/python3.11/site-packages/traitlets/traitlets.py:1385: DeprecationWarning: Passing unrecognized arguments to super(Button).__init__(value=False).\n",
      "object.__init__() takes exactly one argument (the instance to initialize)\n",
      "This is deprecated in traitlets 4.2.This error will be raised in a future release of traitlets.\n",
      "  warn(\n",
      "/home/caitlin/venvs/pynaviz/lib/python3.11/site-packages/traitlets/traitlets.py:1385: DeprecationWarning: Passing unrecognized arguments to super(Button).__init__(value=False).\n",
      "object.__init__() takes exactly one argument (the instance to initialize)\n",
      "This is deprecated in traitlets 4.2.This error will be raised in a future release of traitlets.\n",
      "  warn(\n",
      "/home/caitlin/venvs/pynaviz/lib/python3.11/site-packages/traitlets/traitlets.py:1385: DeprecationWarning: Passing unrecognized arguments to super(IpywidgetToolBar).__init__().\n",
      "ToolBar.__init__() missing 1 required positional argument: 'figure'\n",
      "This is deprecated in traitlets 4.2.This error will be raised in a future release of traitlets.\n",
      "  warn(\n"
     ]
    },
    {
     "data": {
      "application/vnd.jupyter.widget-view+json": {
       "model_id": "",
       "version_major": 2,
       "version_minor": 0
      },
      "text/plain": [
       "JupyterOutputContext(children=(JupyterWgpuCanvas(), IpywidgetToolBar(children=(Button(icon='expand-arrows-alt'…"
      ]
     },
     "execution_count": 4,
     "metadata": {},
     "output_type": "execute_result"
    }
   ],
   "source": [
    "nw.show()"
   ]
  },
  {
   "cell_type": "code",
   "execution_count": null,
   "id": "2667504d-722d-47b7-9011-578db89980d6",
   "metadata": {},
   "outputs": [],
   "source": []
  },
  {
   "cell_type": "code",
   "execution_count": 5,
   "id": "bd23191f-9921-4133-920e-f19ba3c5006f",
   "metadata": {},
   "outputs": [],
   "source": [
    "nw.close()"
   ]
  },
  {
   "cell_type": "markdown",
   "id": "51ca2ab8-498e-453a-a658-a58e6bd5858b",
   "metadata": {},
   "source": [
    "### Look at movies and heatmap"
   ]
  },
  {
   "cell_type": "code",
   "execution_count": 13,
   "id": "5f88a98a-eeef-4c90-b9a3-5ec4ee9e0cad",
   "metadata": {},
   "outputs": [],
   "source": [
    "data = np.random.rand(1000, 512, 512)\n",
    "\n",
    "xs = np.array([i for i in range(data.shape[0])])\n",
    "movie = nap.TsdTensor(t=xs, d=data)"
   ]
  },
  {
   "cell_type": "code",
   "execution_count": 14,
   "id": "22dc2b54-34f1-4f5d-b893-58c6fd3da271",
   "metadata": {},
   "outputs": [
    {
     "data": {
      "application/vnd.jupyter.widget-view+json": {
       "model_id": "d245c86319124c56988af0687b911043",
       "version_major": 2,
       "version_minor": 0
      },
      "text/plain": [
       "RFBOutputContext()"
      ]
     },
     "metadata": {},
     "output_type": "display_data"
    }
   ],
   "source": [
    "nw2 = viz.NeuroWidget(data={\"movie\": movie, \"heatmap\": cosine})"
   ]
  },
  {
   "cell_type": "code",
   "execution_count": 15,
   "id": "161f3ee3-bce5-4bb8-b269-035162eb502c",
   "metadata": {},
   "outputs": [
    {
     "name": "stderr",
     "output_type": "stream",
     "text": [
      "/home/caitlin/venvs/pynaviz/lib/python3.11/site-packages/traitlets/traitlets.py:1385: DeprecationWarning: Passing unrecognized arguments to super(Button).__init__(value=False).\n",
      "object.__init__() takes exactly one argument (the instance to initialize)\n",
      "This is deprecated in traitlets 4.2.This error will be raised in a future release of traitlets.\n",
      "  warn(\n",
      "/home/caitlin/venvs/pynaviz/lib/python3.11/site-packages/traitlets/traitlets.py:1385: DeprecationWarning: Passing unrecognized arguments to super(Button).__init__(value=False).\n",
      "object.__init__() takes exactly one argument (the instance to initialize)\n",
      "This is deprecated in traitlets 4.2.This error will be raised in a future release of traitlets.\n",
      "  warn(\n",
      "/home/caitlin/venvs/pynaviz/lib/python3.11/site-packages/traitlets/traitlets.py:1385: DeprecationWarning: Passing unrecognized arguments to super(Button).__init__(value=False).\n",
      "object.__init__() takes exactly one argument (the instance to initialize)\n",
      "This is deprecated in traitlets 4.2.This error will be raised in a future release of traitlets.\n",
      "  warn(\n",
      "/home/caitlin/venvs/pynaviz/lib/python3.11/site-packages/traitlets/traitlets.py:1385: DeprecationWarning: Passing unrecognized arguments to super(Button).__init__(value=False).\n",
      "object.__init__() takes exactly one argument (the instance to initialize)\n",
      "This is deprecated in traitlets 4.2.This error will be raised in a future release of traitlets.\n",
      "  warn(\n",
      "/home/caitlin/venvs/pynaviz/lib/python3.11/site-packages/traitlets/traitlets.py:1385: DeprecationWarning: Passing unrecognized arguments to super(IpywidgetToolBar).__init__().\n",
      "ToolBar.__init__() missing 1 required positional argument: 'figure'\n",
      "This is deprecated in traitlets 4.2.This error will be raised in a future release of traitlets.\n",
      "  warn(\n"
     ]
    },
    {
     "data": {
      "application/vnd.jupyter.widget-view+json": {
       "model_id": "3536cb0ec98a46858a8a2a33bb6e9655",
       "version_major": 2,
       "version_minor": 0
      },
      "text/plain": [
       "JupyterOutputContext(children=(JupyterWgpuCanvas(), IpywidgetToolBar(children=(Button(icon='expand-arrows-alt'…"
      ]
     },
     "execution_count": 15,
     "metadata": {},
     "output_type": "execute_result"
    }
   ],
   "source": [
    "nw2.show(sync_plots=False)"
   ]
  },
  {
   "cell_type": "code",
   "execution_count": null,
   "id": "4960c145-4411-4266-b2c2-d66d8b0b2247",
   "metadata": {},
   "outputs": [],
   "source": []
  }
 ],
 "metadata": {
  "kernelspec": {
   "display_name": "Python 3 (ipykernel)",
   "language": "python",
   "name": "python3"
  },
  "language_info": {
   "codemirror_mode": {
    "name": "ipython",
    "version": 3
   },
   "file_extension": ".py",
   "mimetype": "text/x-python",
   "name": "python",
   "nbconvert_exporter": "python",
   "pygments_lexer": "ipython3",
   "version": "3.11.9"
  }
 },
 "nbformat": 4,
 "nbformat_minor": 5
}
