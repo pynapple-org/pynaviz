{
 "cells": [
  {
   "cell_type": "markdown",
   "id": "17b304e5-1d30-4900-9f27-e4dea958e651",
   "metadata": {},
   "source": [
    "# Demo notebook for `pynaviz`"
   ]
  },
  {
   "cell_type": "code",
   "execution_count": 1,
   "id": "56f2b9cf-7661-43d4-aff6-65f7ef6fbbd1",
   "metadata": {},
   "outputs": [
    {
     "data": {
      "application/vnd.jupyter.widget-view+json": {
       "model_id": "45751f6c2c4945ca80beddc4e345ad99",
       "version_major": 2,
       "version_minor": 0
      },
      "text/plain": [
       "Image(value=b'\\x89PNG\\r\\n\\x1a\\n\\x00\\x00\\x00\\rIHDR\\x00\\x00\\x01,\\x00\\x00\\x007\\x08\\x06\\x00\\x00\\x00\\xb6\\x1bw\\x99\\x…"
      ]
     },
     "metadata": {},
     "output_type": "display_data"
    },
    {
     "name": "stderr",
     "output_type": "stream",
     "text": [
      "MESA-INTEL: warning: cannot initialize blitter engine\n",
      "Detected skylake derivative running on mesa i915. Clears to srgb textures will use manual shader clears.\n",
      "Detected skylake derivative running on mesa i915. Clears to srgb textures will use manual shader clears.\n",
      "Detected skylake derivative running on mesa i915. Clears to srgb textures will use manual shader clears.\n",
      "Detected skylake derivative running on mesa i915. Clears to srgb textures will use manual shader clears.\n",
      "Detected skylake derivative running on mesa i915. Clears to srgb textures will use manual shader clears.\n"
     ]
    },
    {
     "name": "stdout",
     "output_type": "stream",
     "text": [
      "Available devices:\n",
      "🯄 (default) | Intel(R) Arc(tm) Graphics (MTL) | IntegratedGPU | Vulkan | Mesa 24.0.8-1\n",
      "❗ | llvmpipe (LLVM 17.0.6, 256 bits) | CPU | Vulkan | Mesa 24.0.8-1 (LLVM 17.0.6)\n",
      "❗ | Mesa Intel(R) Arc(tm) Graphics (MTL) | IntegratedGPU | OpenGL | \n"
     ]
    }
   ],
   "source": [
    "import numpy as np\n",
    "import pynapple as nap\n",
    "import pynaviz as viz"
   ]
  },
  {
   "cell_type": "markdown",
   "id": "f82276ba-2b3c-4775-a1b3-859d46e3fcd3",
   "metadata": {},
   "source": [
    "## Generate some data and associated `pynapple` objects"
   ]
  },
  {
   "cell_type": "code",
   "execution_count": 2,
   "id": "ba3ebff4-ef7e-4b04-addc-668fe0393a19",
   "metadata": {},
   "outputs": [],
   "source": [
    "xs = np.linspace(0, 100, 1_000)\n",
    "\n",
    "# sine data\n",
    "ys = np.sin(xs)\n",
    "\n",
    "# associated pynapple array\n",
    "sine = nap.Tsd(t=xs, d=ys)\n",
    "\n",
    "# cosine data\n",
    "ys = np.cos(xs)\n",
    "# create multiple lines\n",
    "cosine = np.array([ys] * 10).T\n",
    "\n",
    "# pynapple object\n",
    "cosine = nap.TsdFrame(t=xs, d=cosine)"
   ]
  },
  {
   "cell_type": "markdown",
   "id": "050d53bd-e461-4e6b-ac7f-3b6ca07c3383",
   "metadata": {},
   "source": [
    "### `NeuroWidget` with lines"
   ]
  },
  {
   "cell_type": "code",
   "execution_count": 3,
   "id": "88a051df-0705-43cd-8552-155643e648ea",
   "metadata": {},
   "outputs": [
    {
     "name": "stderr",
     "output_type": "stream",
     "text": [
      "/home/caitlin/repos/fastplotlib/fastplotlib/graphics/_features/_base.py:21: UserWarning: casting float64 array to float32\n",
      "  warn(f\"casting {array.dtype} array to float32\")\n"
     ]
    },
    {
     "data": {
      "application/vnd.jupyter.widget-view+json": {
       "model_id": "7856d9aa01094096af49707376fa4398",
       "version_major": 2,
       "version_minor": 0
      },
      "text/plain": [
       "RFBOutputContext()"
      ]
     },
     "metadata": {},
     "output_type": "display_data"
    },
    {
     "name": "stderr",
     "output_type": "stream",
     "text": [
      "Detected skylake derivative running on mesa i915. Clears to srgb textures will use manual shader clears.\n"
     ]
    }
   ],
   "source": [
    "nw = viz.NeuroWidget(data={\"line\": [sine, cosine]})"
   ]
  },
  {
   "cell_type": "code",
   "execution_count": 4,
   "id": "d225cef2-4c11-4fce-adad-7e37f4c83df2",
   "metadata": {},
   "outputs": [
    {
     "name": "stderr",
     "output_type": "stream",
     "text": [
      "/home/caitlin/venvs/pynaviz/lib/python3.11/site-packages/traitlets/traitlets.py:1385: DeprecationWarning: Passing unrecognized arguments to super(Button).__init__(value=False).\n",
      "object.__init__() takes exactly one argument (the instance to initialize)\n",
      "This is deprecated in traitlets 4.2.This error will be raised in a future release of traitlets.\n",
      "  warn(\n",
      "/home/caitlin/venvs/pynaviz/lib/python3.11/site-packages/traitlets/traitlets.py:1385: DeprecationWarning: Passing unrecognized arguments to super(Button).__init__(value=False).\n",
      "object.__init__() takes exactly one argument (the instance to initialize)\n",
      "This is deprecated in traitlets 4.2.This error will be raised in a future release of traitlets.\n",
      "  warn(\n",
      "/home/caitlin/venvs/pynaviz/lib/python3.11/site-packages/traitlets/traitlets.py:1385: DeprecationWarning: Passing unrecognized arguments to super(Button).__init__(value=False).\n",
      "object.__init__() takes exactly one argument (the instance to initialize)\n",
      "This is deprecated in traitlets 4.2.This error will be raised in a future release of traitlets.\n",
      "  warn(\n",
      "/home/caitlin/venvs/pynaviz/lib/python3.11/site-packages/traitlets/traitlets.py:1385: DeprecationWarning: Passing unrecognized arguments to super(Button).__init__(value=False).\n",
      "object.__init__() takes exactly one argument (the instance to initialize)\n",
      "This is deprecated in traitlets 4.2.This error will be raised in a future release of traitlets.\n",
      "  warn(\n",
      "/home/caitlin/venvs/pynaviz/lib/python3.11/site-packages/traitlets/traitlets.py:1385: DeprecationWarning: Passing unrecognized arguments to super(IpywidgetToolBar).__init__().\n",
      "ToolBar.__init__() missing 1 required positional argument: 'figure'\n",
      "This is deprecated in traitlets 4.2.This error will be raised in a future release of traitlets.\n",
      "  warn(\n"
     ]
    },
    {
     "data": {
      "application/vnd.jupyter.widget-view+json": {
       "model_id": "",
       "version_major": 2,
       "version_minor": 0
      },
      "text/plain": [
       "JupyterOutputContext(children=(JupyterWgpuCanvas(), IpywidgetToolBar(children=(Button(icon='expand-arrows-alt'…"
      ]
     },
     "execution_count": 4,
     "metadata": {},
     "output_type": "execute_result"
    }
   ],
   "source": [
    "nw.show()"
   ]
  },
  {
   "cell_type": "markdown",
   "id": "50e5e1b6-0711-4e77-bff4-e5dcab3d5547",
   "metadata": {},
   "source": [
    "### Close the widget"
   ]
  },
  {
   "cell_type": "code",
   "execution_count": 5,
   "id": "b034de36-7e86-4855-8895-95f10ba4fb8d",
   "metadata": {},
   "outputs": [],
   "source": [
    "nw.close()"
   ]
  },
  {
   "cell_type": "markdown",
   "id": "a609d2b3-b772-4c45-880e-af7560a7ecf3",
   "metadata": {},
   "source": [
    "### `NeuroWidget` with heatmap and movie"
   ]
  },
  {
   "cell_type": "code",
   "execution_count": 16,
   "id": "1dc28d0f-591d-49e2-aa7c-3155cd041857",
   "metadata": {},
   "outputs": [],
   "source": [
    "# generate some movie data\n",
    "data = np.random.rand(1000, 512, 512)\n",
    "\n",
    "# make pynapple tensor\n",
    "movie = nap.TsdTensor(t=np.array([i for i in range(1000)]), d=data)"
   ]
  },
  {
   "cell_type": "code",
   "execution_count": 17,
   "id": "0ae84a9e-d59d-4949-8a9b-7c2dc5796e1a",
   "metadata": {},
   "outputs": [
    {
     "data": {
      "application/vnd.jupyter.widget-view+json": {
       "model_id": "58162ea865c442a383489b3af8cac2cf",
       "version_major": 2,
       "version_minor": 0
      },
      "text/plain": [
       "RFBOutputContext()"
      ]
     },
     "metadata": {},
     "output_type": "display_data"
    }
   ],
   "source": [
    "nw2 = viz.NeuroWidget(data={\n",
    "                        \"heatmap\": cosine,\n",
    "                        \"movie\": movie\n",
    "                        }\n",
    "                     )"
   ]
  },
  {
   "cell_type": "code",
   "execution_count": 18,
   "id": "842740fc-222f-4190-8e3b-654875fb44d9",
   "metadata": {},
   "outputs": [
    {
     "name": "stderr",
     "output_type": "stream",
     "text": [
      "/home/caitlin/venvs/pynaviz/lib/python3.11/site-packages/traitlets/traitlets.py:1385: DeprecationWarning: Passing unrecognized arguments to super(Button).__init__(value=False).\n",
      "object.__init__() takes exactly one argument (the instance to initialize)\n",
      "This is deprecated in traitlets 4.2.This error will be raised in a future release of traitlets.\n",
      "  warn(\n",
      "/home/caitlin/venvs/pynaviz/lib/python3.11/site-packages/traitlets/traitlets.py:1385: DeprecationWarning: Passing unrecognized arguments to super(Button).__init__(value=False).\n",
      "object.__init__() takes exactly one argument (the instance to initialize)\n",
      "This is deprecated in traitlets 4.2.This error will be raised in a future release of traitlets.\n",
      "  warn(\n",
      "/home/caitlin/venvs/pynaviz/lib/python3.11/site-packages/traitlets/traitlets.py:1385: DeprecationWarning: Passing unrecognized arguments to super(Button).__init__(value=False).\n",
      "object.__init__() takes exactly one argument (the instance to initialize)\n",
      "This is deprecated in traitlets 4.2.This error will be raised in a future release of traitlets.\n",
      "  warn(\n",
      "/home/caitlin/venvs/pynaviz/lib/python3.11/site-packages/traitlets/traitlets.py:1385: DeprecationWarning: Passing unrecognized arguments to super(Button).__init__(value=False).\n",
      "object.__init__() takes exactly one argument (the instance to initialize)\n",
      "This is deprecated in traitlets 4.2.This error will be raised in a future release of traitlets.\n",
      "  warn(\n",
      "/home/caitlin/venvs/pynaviz/lib/python3.11/site-packages/traitlets/traitlets.py:1385: DeprecationWarning: Passing unrecognized arguments to super(IpywidgetToolBar).__init__().\n",
      "ToolBar.__init__() missing 1 required positional argument: 'figure'\n",
      "This is deprecated in traitlets 4.2.This error will be raised in a future release of traitlets.\n",
      "  warn(\n"
     ]
    },
    {
     "data": {
      "application/vnd.jupyter.widget-view+json": {
       "model_id": "1b93fe0f04fa421ab132638136a714e2",
       "version_major": 2,
       "version_minor": 0
      },
      "text/plain": [
       "JupyterOutputContext(children=(JupyterWgpuCanvas(), IpywidgetToolBar(children=(Button(icon='expand-arrows-alt'…"
      ]
     },
     "execution_count": 18,
     "metadata": {},
     "output_type": "execute_result"
    }
   ],
   "source": [
    "nw2.show(sync_plots=False)"
   ]
  },
  {
   "cell_type": "code",
   "execution_count": 13,
   "id": "3731ad87-b658-4ca5-b48d-5c0302a74338",
   "metadata": {},
   "outputs": [
    {
     "data": {
      "text/plain": [
       "(1000, 10)"
      ]
     },
     "execution_count": 13,
     "metadata": {},
     "output_type": "execute_result"
    }
   ],
   "source": [
    "cosine.shape"
   ]
  },
  {
   "cell_type": "code",
   "execution_count": 14,
   "id": "84653319-3910-47ce-a6df-4d4de0acd406",
   "metadata": {},
   "outputs": [
    {
     "data": {
      "text/plain": [
       "(100, 512, 512)"
      ]
     },
     "execution_count": 14,
     "metadata": {},
     "output_type": "execute_result"
    }
   ],
   "source": [
    "movie.shape"
   ]
  },
  {
   "cell_type": "code",
   "execution_count": 15,
   "id": "02f63d28-5c88-4583-9679-212d7a058077",
   "metadata": {},
   "outputs": [
    {
     "data": {
      "text/plain": [
       "100.0"
      ]
     },
     "execution_count": 15,
     "metadata": {},
     "output_type": "execute_result"
    }
   ],
   "source": [
    "max(cosine.t)"
   ]
  },
  {
   "cell_type": "code",
   "execution_count": null,
   "id": "f027b199-0758-465c-80fb-3225c773a7a6",
   "metadata": {},
   "outputs": [],
   "source": []
  }
 ],
 "metadata": {
  "kernelspec": {
   "display_name": "Python 3 (ipykernel)",
   "language": "python",
   "name": "python3"
  },
  "language_info": {
   "codemirror_mode": {
    "name": "ipython",
    "version": 3
   },
   "file_extension": ".py",
   "mimetype": "text/x-python",
   "name": "python",
   "nbconvert_exporter": "python",
   "pygments_lexer": "ipython3",
   "version": "3.11.9"
  }
 },
 "nbformat": 4,
 "nbformat_minor": 5
}
