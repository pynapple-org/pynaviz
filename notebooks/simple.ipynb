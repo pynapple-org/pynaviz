{
 "cells": [
  {
   "cell_type": "markdown",
   "id": "17b304e5-1d30-4900-9f27-e4dea958e651",
   "metadata": {},
   "source": [
    "# Demo notebook for `pynaviz`"
   ]
  },
  {
   "cell_type": "code",
   "execution_count": 1,
   "id": "56f2b9cf-7661-43d4-aff6-65f7ef6fbbd1",
   "metadata": {},
   "outputs": [
    {
     "data": {
      "application/vnd.jupyter.widget-view+json": {
       "model_id": "5b3fb5a4f5d543f4978badb0e3e509d5",
       "version_major": 2,
       "version_minor": 0
      },
      "text/plain": [
       "Image(value=b'\\x89PNG\\r\\n\\x1a\\n\\x00\\x00\\x00\\rIHDR\\x00\\x00\\x01,\\x00\\x00\\x007\\x08\\x06\\x00\\x00\\x00\\xb6\\x1bw\\x99\\x…"
      ]
     },
     "metadata": {},
     "output_type": "display_data"
    },
    {
     "name": "stderr",
     "output_type": "stream",
     "text": [
      "MESA-INTEL: warning: cannot initialize blitter engine\n",
      "Detected skylake derivative running on mesa i915. Clears to srgb textures will use manual shader clears.\n",
      "Detected skylake derivative running on mesa i915. Clears to srgb textures will use manual shader clears.\n",
      "Detected skylake derivative running on mesa i915. Clears to srgb textures will use manual shader clears.\n",
      "Detected skylake derivative running on mesa i915. Clears to srgb textures will use manual shader clears.\n",
      "Detected skylake derivative running on mesa i915. Clears to srgb textures will use manual shader clears.\n"
     ]
    },
    {
     "name": "stdout",
     "output_type": "stream",
     "text": [
      "Available devices:\n",
      "🯄 (default) | Intel(R) Arc(tm) Graphics (MTL) | IntegratedGPU | Vulkan | Mesa 24.0.8-1\n",
      "❗ | llvmpipe (LLVM 17.0.6, 256 bits) | CPU | Vulkan | Mesa 24.0.8-1 (LLVM 17.0.6)\n",
      "❗ | Mesa Intel(R) Arc(tm) Graphics (MTL) | IntegratedGPU | OpenGL | \n"
     ]
    }
   ],
   "source": [
    "import numpy as np\n",
    "import pynapple as nap\n",
    "import pynaviz as viz"
   ]
  },
  {
   "cell_type": "code",
   "execution_count": null,
   "id": "dbfbcc14-a12a-4889-a92b-32ebe664bd6a",
   "metadata": {},
   "outputs": [],
   "source": []
  },
  {
   "cell_type": "markdown",
   "id": "f82276ba-2b3c-4775-a1b3-859d46e3fcd3",
   "metadata": {},
   "source": [
    "## Generate some data and associated `pynapple` objects"
   ]
  },
  {
   "cell_type": "code",
   "execution_count": 2,
   "id": "ba3ebff4-ef7e-4b04-addc-668fe0393a19",
   "metadata": {},
   "outputs": [],
   "source": [
    "xs = np.linspace(0, 100, 1_000)\n",
    "\n",
    "# sine data\n",
    "ys = np.sin(xs)\n",
    "\n",
    "# associated pynapple array\n",
    "sine = nap.Tsd(t=xs, d=ys)\n",
    "\n",
    "# cosine data\n",
    "ys = np.cos(xs)\n",
    "# create multiple lines\n",
    "cosine = np.array([ys] * 10).T\n",
    "\n",
    "# pynapple object\n",
    "cosine = nap.TsdFrame(t=xs, d=cosine)"
   ]
  },
  {
   "cell_type": "code",
   "execution_count": 6,
   "id": "00bdb6d8-ec5a-4459-8b95-678cabbb3063",
   "metadata": {},
   "outputs": [],
   "source": [
    "names = [\"bah\", \"baah\"]"
   ]
  },
  {
   "cell_type": "code",
   "execution_count": 7,
   "id": "7ce9aef6-aea7-411f-862e-1a6ecfb76d49",
   "metadata": {},
   "outputs": [
    {
     "data": {
      "text/plain": [
       "2"
      ]
     },
     "execution_count": 7,
     "metadata": {},
     "output_type": "execute_result"
    }
   ],
   "source": [
    "len(set(names))"
   ]
  },
  {
   "cell_type": "markdown",
   "id": "050d53bd-e461-4e6b-ac7f-3b6ca07c3383",
   "metadata": {},
   "source": [
    "### `NeuroWidget` with lines"
   ]
  },
  {
   "cell_type": "code",
   "execution_count": 3,
   "id": "88a051df-0705-43cd-8552-155643e648ea",
   "metadata": {},
   "outputs": [
    {
     "name": "stderr",
     "output_type": "stream",
     "text": [
      "/home/caitlin/repos/fastplotlib/fastplotlib/graphics/_features/_base.py:21: UserWarning: casting float64 array to float32\n",
      "  warn(f\"casting {array.dtype} array to float32\")\n"
     ]
    },
    {
     "data": {
      "application/vnd.jupyter.widget-view+json": {
       "model_id": "7b8b88d7a873493994ddba57f7b1190d",
       "version_major": 2,
       "version_minor": 0
      },
      "text/plain": [
       "RFBOutputContext()"
      ]
     },
     "metadata": {},
     "output_type": "display_data"
    },
    {
     "name": "stderr",
     "output_type": "stream",
     "text": [
      "Detected skylake derivative running on mesa i915. Clears to srgb textures will use manual shader clears.\n"
     ]
    }
   ],
   "source": [
    "nw = viz.NeuroWidget(line=sine, names=[\"sine\"])"
   ]
  },
  {
   "cell_type": "code",
   "execution_count": 4,
   "id": "d225cef2-4c11-4fce-adad-7e37f4c83df2",
   "metadata": {},
   "outputs": [
    {
     "name": "stderr",
     "output_type": "stream",
     "text": [
      "/home/caitlin/venvs/pynaviz/lib/python3.11/site-packages/traitlets/traitlets.py:1385: DeprecationWarning: Passing unrecognized arguments to super(Button).__init__(value=False).\n",
      "object.__init__() takes exactly one argument (the instance to initialize)\n",
      "This is deprecated in traitlets 4.2.This error will be raised in a future release of traitlets.\n",
      "  warn(\n",
      "/home/caitlin/venvs/pynaviz/lib/python3.11/site-packages/traitlets/traitlets.py:1385: DeprecationWarning: Passing unrecognized arguments to super(Button).__init__(value=False).\n",
      "object.__init__() takes exactly one argument (the instance to initialize)\n",
      "This is deprecated in traitlets 4.2.This error will be raised in a future release of traitlets.\n",
      "  warn(\n",
      "/home/caitlin/venvs/pynaviz/lib/python3.11/site-packages/traitlets/traitlets.py:1385: DeprecationWarning: Passing unrecognized arguments to super(Button).__init__(value=False).\n",
      "object.__init__() takes exactly one argument (the instance to initialize)\n",
      "This is deprecated in traitlets 4.2.This error will be raised in a future release of traitlets.\n",
      "  warn(\n",
      "/home/caitlin/venvs/pynaviz/lib/python3.11/site-packages/traitlets/traitlets.py:1385: DeprecationWarning: Passing unrecognized arguments to super(Button).__init__(value=False).\n",
      "object.__init__() takes exactly one argument (the instance to initialize)\n",
      "This is deprecated in traitlets 4.2.This error will be raised in a future release of traitlets.\n",
      "  warn(\n",
      "/home/caitlin/venvs/pynaviz/lib/python3.11/site-packages/traitlets/traitlets.py:1385: DeprecationWarning: Passing unrecognized arguments to super(IpywidgetToolBar).__init__().\n",
      "ToolBar.__init__() missing 1 required positional argument: 'figure'\n",
      "This is deprecated in traitlets 4.2.This error will be raised in a future release of traitlets.\n",
      "  warn(\n"
     ]
    },
    {
     "data": {
      "application/vnd.jupyter.widget-view+json": {
       "model_id": "",
       "version_major": 2,
       "version_minor": 0
      },
      "text/plain": [
       "JupyterOutputContext(children=(JupyterWgpuCanvas(), IpywidgetToolBar(children=(Button(icon='expand-arrows-alt'…"
      ]
     },
     "execution_count": 4,
     "metadata": {},
     "output_type": "execute_result"
    }
   ],
   "source": [
    "nw.show()"
   ]
  },
  {
   "cell_type": "markdown",
   "id": "50e5e1b6-0711-4e77-bff4-e5dcab3d5547",
   "metadata": {},
   "source": [
    "### Close the widget"
   ]
  },
  {
   "cell_type": "code",
   "execution_count": 5,
   "id": "b034de36-7e86-4855-8895-95f10ba4fb8d",
   "metadata": {},
   "outputs": [],
   "source": [
    "nw.close()"
   ]
  },
  {
   "cell_type": "markdown",
   "id": "a609d2b3-b772-4c45-880e-af7560a7ecf3",
   "metadata": {},
   "source": [
    "### `NeuroWidget` with heatmap and movie"
   ]
  },
  {
   "cell_type": "code",
   "execution_count": 6,
   "id": "1dc28d0f-591d-49e2-aa7c-3155cd041857",
   "metadata": {},
   "outputs": [],
   "source": [
    "# generate some movie data\n",
    "data = np.random.rand(1000, 512, 512)\n",
    "\n",
    "# make pynapple tensor\n",
    "movie = nap.TsdTensor(t=np.array([i for i in range(1000)]), d=data)"
   ]
  },
  {
   "cell_type": "code",
   "execution_count": 7,
   "id": "0ae84a9e-d59d-4949-8a9b-7c2dc5796e1a",
   "metadata": {},
   "outputs": [
    {
     "data": {
      "application/vnd.jupyter.widget-view+json": {
       "model_id": "eb31187239a14325995525297f9762df",
       "version_major": 2,
       "version_minor": 0
      },
      "text/plain": [
       "RFBOutputContext()"
      ]
     },
     "metadata": {},
     "output_type": "display_data"
    }
   ],
   "source": [
    "nw2 = viz.NeuroWidget(heatmap=cosine, movie=movie)"
   ]
  },
  {
   "cell_type": "code",
   "execution_count": 8,
   "id": "842740fc-222f-4190-8e3b-654875fb44d9",
   "metadata": {},
   "outputs": [
    {
     "name": "stderr",
     "output_type": "stream",
     "text": [
      "/home/caitlin/venvs/pynaviz/lib/python3.11/site-packages/traitlets/traitlets.py:1385: DeprecationWarning: Passing unrecognized arguments to super(Button).__init__(value=False).\n",
      "object.__init__() takes exactly one argument (the instance to initialize)\n",
      "This is deprecated in traitlets 4.2.This error will be raised in a future release of traitlets.\n",
      "  warn(\n",
      "/home/caitlin/venvs/pynaviz/lib/python3.11/site-packages/traitlets/traitlets.py:1385: DeprecationWarning: Passing unrecognized arguments to super(Button).__init__(value=False).\n",
      "object.__init__() takes exactly one argument (the instance to initialize)\n",
      "This is deprecated in traitlets 4.2.This error will be raised in a future release of traitlets.\n",
      "  warn(\n",
      "/home/caitlin/venvs/pynaviz/lib/python3.11/site-packages/traitlets/traitlets.py:1385: DeprecationWarning: Passing unrecognized arguments to super(Button).__init__(value=False).\n",
      "object.__init__() takes exactly one argument (the instance to initialize)\n",
      "This is deprecated in traitlets 4.2.This error will be raised in a future release of traitlets.\n",
      "  warn(\n",
      "/home/caitlin/venvs/pynaviz/lib/python3.11/site-packages/traitlets/traitlets.py:1385: DeprecationWarning: Passing unrecognized arguments to super(Button).__init__(value=False).\n",
      "object.__init__() takes exactly one argument (the instance to initialize)\n",
      "This is deprecated in traitlets 4.2.This error will be raised in a future release of traitlets.\n",
      "  warn(\n",
      "/home/caitlin/venvs/pynaviz/lib/python3.11/site-packages/traitlets/traitlets.py:1385: DeprecationWarning: Passing unrecognized arguments to super(IpywidgetToolBar).__init__().\n",
      "ToolBar.__init__() missing 1 required positional argument: 'figure'\n",
      "This is deprecated in traitlets 4.2.This error will be raised in a future release of traitlets.\n",
      "  warn(\n"
     ]
    },
    {
     "data": {
      "application/vnd.jupyter.widget-view+json": {
       "model_id": "",
       "version_major": 2,
       "version_minor": 0
      },
      "text/plain": [
       "JupyterOutputContext(children=(JupyterWgpuCanvas(), IpywidgetToolBar(children=(Button(icon='expand-arrows-alt'…"
      ]
     },
     "execution_count": 8,
     "metadata": {},
     "output_type": "execute_result"
    }
   ],
   "source": [
    "nw2.show(sync_plots=False)"
   ]
  },
  {
   "cell_type": "code",
   "execution_count": 9,
   "id": "9752b40f-e530-4af5-94c9-56ed9280db7b",
   "metadata": {},
   "outputs": [],
   "source": [
    "# close widget\n",
    "nw2.close()"
   ]
  },
  {
   "cell_type": "markdown",
   "id": "a24a0ba2-1e6c-4bef-98f9-936877dec5d5",
   "metadata": {},
   "source": [
    "### Wonky plot syncing for graphic of different types\n",
    "\n",
    "Need to decide what to do about this!"
   ]
  },
  {
   "cell_type": "code",
   "execution_count": 12,
   "id": "84653319-3910-47ce-a6df-4d4de0acd406",
   "metadata": {},
   "outputs": [
    {
     "data": {
      "application/vnd.jupyter.widget-view+json": {
       "model_id": "d052844ba6704ac1bb2fea9e21becae7",
       "version_major": 2,
       "version_minor": 0
      },
      "text/plain": [
       "RFBOutputContext()"
      ]
     },
     "metadata": {},
     "output_type": "display_data"
    }
   ],
   "source": [
    "nw3 = viz.NeuroWidget(line=sine, heatmap=cosine)"
   ]
  },
  {
   "cell_type": "code",
   "execution_count": 13,
   "id": "02f63d28-5c88-4583-9679-212d7a058077",
   "metadata": {},
   "outputs": [
    {
     "name": "stderr",
     "output_type": "stream",
     "text": [
      "/home/caitlin/venvs/pynaviz/lib/python3.11/site-packages/traitlets/traitlets.py:1385: DeprecationWarning: Passing unrecognized arguments to super(Button).__init__(value=False).\n",
      "object.__init__() takes exactly one argument (the instance to initialize)\n",
      "This is deprecated in traitlets 4.2.This error will be raised in a future release of traitlets.\n",
      "  warn(\n",
      "/home/caitlin/venvs/pynaviz/lib/python3.11/site-packages/traitlets/traitlets.py:1385: DeprecationWarning: Passing unrecognized arguments to super(Button).__init__(value=False).\n",
      "object.__init__() takes exactly one argument (the instance to initialize)\n",
      "This is deprecated in traitlets 4.2.This error will be raised in a future release of traitlets.\n",
      "  warn(\n",
      "/home/caitlin/venvs/pynaviz/lib/python3.11/site-packages/traitlets/traitlets.py:1385: DeprecationWarning: Passing unrecognized arguments to super(Button).__init__(value=False).\n",
      "object.__init__() takes exactly one argument (the instance to initialize)\n",
      "This is deprecated in traitlets 4.2.This error will be raised in a future release of traitlets.\n",
      "  warn(\n",
      "/home/caitlin/venvs/pynaviz/lib/python3.11/site-packages/traitlets/traitlets.py:1385: DeprecationWarning: Passing unrecognized arguments to super(Button).__init__(value=False).\n",
      "object.__init__() takes exactly one argument (the instance to initialize)\n",
      "This is deprecated in traitlets 4.2.This error will be raised in a future release of traitlets.\n",
      "  warn(\n",
      "/home/caitlin/venvs/pynaviz/lib/python3.11/site-packages/traitlets/traitlets.py:1385: DeprecationWarning: Passing unrecognized arguments to super(IpywidgetToolBar).__init__().\n",
      "ToolBar.__init__() missing 1 required positional argument: 'figure'\n",
      "This is deprecated in traitlets 4.2.This error will be raised in a future release of traitlets.\n",
      "  warn(\n"
     ]
    },
    {
     "data": {
      "application/vnd.jupyter.widget-view+json": {
       "model_id": "383c94b81afa46619f8fb37c04184fe0",
       "version_major": 2,
       "version_minor": 0
      },
      "text/plain": [
       "JupyterOutputContext(children=(JupyterWgpuCanvas(), IpywidgetToolBar(children=(Button(icon='expand-arrows-alt'…"
      ]
     },
     "execution_count": 13,
     "metadata": {},
     "output_type": "execute_result"
    }
   ],
   "source": [
    "nw3.show()"
   ]
  },
  {
   "cell_type": "code",
   "execution_count": null,
   "id": "56e73974-a793-4395-8f04-4ee4d870b693",
   "metadata": {},
   "outputs": [],
   "source": [
    "# columns in heatmap / range of x-space"
   ]
  },
  {
   "cell_type": "code",
   "execution_count": 19,
   "id": "344632fb-6135-4f01-854f-b5e688d5524a",
   "metadata": {},
   "outputs": [
    {
     "data": {
      "text/plain": [
       "100.0"
      ]
     },
     "execution_count": 19,
     "metadata": {},
     "output_type": "execute_result"
    }
   ],
   "source": [
    "nw3.figure[0, 0].graphics[0].data[:, 0].max()"
   ]
  },
  {
   "cell_type": "code",
   "execution_count": 20,
   "id": "c7be64b3-0888-4a0c-82e6-5396b34b9aec",
   "metadata": {},
   "outputs": [
    {
     "data": {
      "text/plain": [
       "(1000, 3)"
      ]
     },
     "execution_count": 20,
     "metadata": {},
     "output_type": "execute_result"
    }
   ],
   "source": [
    "nw3.figure[0, 0].graphics[0].data[:].shape"
   ]
  },
  {
   "cell_type": "code",
   "execution_count": 17,
   "id": "0ae639fe-db49-4ca9-9544-2cb56a1c681f",
   "metadata": {},
   "outputs": [
    {
     "data": {
      "text/plain": [
       "(10, 1000)"
      ]
     },
     "execution_count": 17,
     "metadata": {},
     "output_type": "execute_result"
    }
   ],
   "source": [
    "nw3.figure[0, 1].graphics[0].data[:].shape"
   ]
  },
  {
   "cell_type": "code",
   "execution_count": 21,
   "id": "24443190-dd40-45b0-9722-ee73d83ff662",
   "metadata": {},
   "outputs": [],
   "source": [
    "nw3.figure[0, 1].graphics[0].world_object.local.scale_x = 0.1"
   ]
  },
  {
   "cell_type": "code",
   "execution_count": 15,
   "id": "a58fa94f-23ea-49c2-bf75-b4c9729a07e3",
   "metadata": {},
   "outputs": [],
   "source": [
    "# TODO: way in fastplotlib to specify (matplotlib extent) the axes ticks"
   ]
  },
  {
   "cell_type": "code",
   "execution_count": 16,
   "id": "f027b199-0758-465c-80fb-3225c773a7a6",
   "metadata": {},
   "outputs": [],
   "source": [
    "# close the widget\n",
    "nw3.close()"
   ]
  },
  {
   "cell_type": "markdown",
   "id": "e87d5bf6-b054-41ce-8953-aee5d8b83976",
   "metadata": {},
   "source": [
    "### ROI and heatmap with component selection"
   ]
  },
  {
   "cell_type": "code",
   "execution_count": 20,
   "id": "3fb74158-17f3-4e85-846a-b275ff2eb10a",
   "metadata": {},
   "outputs": [],
   "source": [
    "from itertools import product"
   ]
  },
  {
   "cell_type": "code",
   "execution_count": 21,
   "id": "332c4a48-1850-4a97-94c7-09ad94e9b001",
   "metadata": {},
   "outputs": [],
   "source": [
    "# make some ROIs for the cosine data\n",
    "def make_circle(center, radius: float, n_points: int = 100) -> np.ndarray:\n",
    "    theta = np.linspace(0, 2 * np.pi, n_points)\n",
    "    xs = radius * np.sin(theta)\n",
    "    ys = radius * np.cos(theta)\n",
    "\n",
    "    return np.column_stack([xs, ys]) + center\n",
    "\n",
    "\n",
    "spatial_dims = (100, 100)\n",
    "\n",
    "circles = list()\n",
    "for center in product(range(0, spatial_dims[0], 20), range(0, spatial_dims[1], 50)):\n",
    "    circles.append(make_circle(center, 8))"
   ]
  },
  {
   "cell_type": "code",
   "execution_count": 22,
   "id": "7ef3d4a2-e266-4634-8470-fe960a59297f",
   "metadata": {},
   "outputs": [],
   "source": [
    "# make pynapple object\n",
    "rois = nap.TsdTensor(t=np.array([i for i in range(len(circles))]), d=np.array(circles))"
   ]
  },
  {
   "cell_type": "code",
   "execution_count": 23,
   "id": "e79ae4a7-96ab-4852-bcdd-f3c99938ea25",
   "metadata": {},
   "outputs": [
    {
     "data": {
      "application/vnd.jupyter.widget-view+json": {
       "model_id": "af40d704a0784c5aae80b1f49a0a513b",
       "version_major": 2,
       "version_minor": 0
      },
      "text/plain": [
       "RFBOutputContext()"
      ]
     },
     "metadata": {},
     "output_type": "display_data"
    }
   ],
   "source": [
    "nw = viz.NeuroWidget(heatmap=cosine,\n",
    "                     rois=rois,\n",
    "                     movie=movie)"
   ]
  },
  {
   "cell_type": "code",
   "execution_count": 24,
   "id": "4a42be6f-9c2a-463d-af6c-74b4d8a7ebe9",
   "metadata": {},
   "outputs": [
    {
     "name": "stderr",
     "output_type": "stream",
     "text": [
      "/home/caitlin/venvs/pynaviz/lib/python3.11/site-packages/traitlets/traitlets.py:1385: DeprecationWarning: Passing unrecognized arguments to super(Button).__init__(value=False).\n",
      "object.__init__() takes exactly one argument (the instance to initialize)\n",
      "This is deprecated in traitlets 4.2.This error will be raised in a future release of traitlets.\n",
      "  warn(\n",
      "/home/caitlin/venvs/pynaviz/lib/python3.11/site-packages/traitlets/traitlets.py:1385: DeprecationWarning: Passing unrecognized arguments to super(Button).__init__(value=False).\n",
      "object.__init__() takes exactly one argument (the instance to initialize)\n",
      "This is deprecated in traitlets 4.2.This error will be raised in a future release of traitlets.\n",
      "  warn(\n",
      "/home/caitlin/venvs/pynaviz/lib/python3.11/site-packages/traitlets/traitlets.py:1385: DeprecationWarning: Passing unrecognized arguments to super(Button).__init__(value=False).\n",
      "object.__init__() takes exactly one argument (the instance to initialize)\n",
      "This is deprecated in traitlets 4.2.This error will be raised in a future release of traitlets.\n",
      "  warn(\n",
      "/home/caitlin/venvs/pynaviz/lib/python3.11/site-packages/traitlets/traitlets.py:1385: DeprecationWarning: Passing unrecognized arguments to super(Button).__init__(value=False).\n",
      "object.__init__() takes exactly one argument (the instance to initialize)\n",
      "This is deprecated in traitlets 4.2.This error will be raised in a future release of traitlets.\n",
      "  warn(\n",
      "/home/caitlin/venvs/pynaviz/lib/python3.11/site-packages/traitlets/traitlets.py:1385: DeprecationWarning: Passing unrecognized arguments to super(IpywidgetToolBar).__init__().\n",
      "ToolBar.__init__() missing 1 required positional argument: 'figure'\n",
      "This is deprecated in traitlets 4.2.This error will be raised in a future release of traitlets.\n",
      "  warn(\n"
     ]
    },
    {
     "data": {
      "application/vnd.jupyter.widget-view+json": {
       "model_id": "",
       "version_major": 2,
       "version_minor": 0
      },
      "text/plain": [
       "JupyterOutputContext(children=(JupyterWgpuCanvas(), IpywidgetToolBar(children=(Button(icon='expand-arrows-alt'…"
      ]
     },
     "execution_count": 24,
     "metadata": {},
     "output_type": "execute_result"
    }
   ],
   "source": [
    "nw.show(sync_plots=False)"
   ]
  },
  {
   "cell_type": "code",
   "execution_count": 25,
   "id": "3aa71cb3-5735-421e-ae0d-9cc959116282",
   "metadata": {},
   "outputs": [],
   "source": [
    "nw.close()"
   ]
  },
  {
   "cell_type": "markdown",
   "id": "678ad758-8696-49f1-bf8f-af8adff9a009",
   "metadata": {},
   "source": [
    "# TODO\n",
    "\n",
    "- [ ] Fixing how plots are synchronized\n",
    "- [x] Add component store\n",
    "- [x] Add passing visual names\n",
    "- [ ] Add LinearRegionSelector time selection capabilities\n",
    "- [x] Add ROI visual"
   ]
  },
  {
   "cell_type": "code",
   "execution_count": null,
   "id": "d8d26e02-4be7-4665-a3bf-4e20ee46499f",
   "metadata": {},
   "outputs": [],
   "source": [
    "# AXES want to be on top of the graphic, not move graphic over axes\n",
    "# number thickness"
   ]
  },
  {
   "cell_type": "code",
   "execution_count": null,
   "id": "3a952408-5fed-4ab8-adb0-0da26938fd60",
   "metadata": {},
   "outputs": [],
   "source": []
  },
  {
   "cell_type": "code",
   "execution_count": null,
   "id": "b3668ac9-9162-4362-a079-cf2d96b5987f",
   "metadata": {},
   "outputs": [],
   "source": []
  }
 ],
 "metadata": {
  "kernelspec": {
   "display_name": "Python 3 (ipykernel)",
   "language": "python",
   "name": "python3"
  },
  "language_info": {
   "codemirror_mode": {
    "name": "ipython",
    "version": 3
   },
   "file_extension": ".py",
   "mimetype": "text/x-python",
   "name": "python",
   "nbconvert_exporter": "python",
   "pygments_lexer": "ipython3",
   "version": "3.11.9"
  }
 },
 "nbformat": 4,
 "nbformat_minor": 5
}
